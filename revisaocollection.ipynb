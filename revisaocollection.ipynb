{
 "cells": [
  {
   "cell_type": "code",
   "execution_count": 8,
   "metadata": {},
   "outputs": [
    {
     "data": {
      "text/plain": [
       "list"
      ]
     },
     "execution_count": 8,
     "metadata": {},
     "output_type": "execute_result"
    }
   ],
   "source": [
    "lista_times = [\"vasco\",\"flamengo\",\"fluminense\",\"são paulo\"]\n",
    "\n",
    "type(lista_times)"
   ]
  },
  {
   "cell_type": "code",
   "execution_count": 9,
   "metadata": {},
   "outputs": [
    {
     "data": {
      "text/plain": [
       "tuple"
      ]
     },
     "execution_count": 9,
     "metadata": {},
     "output_type": "execute_result"
    }
   ],
   "source": [
    "tupla_times = (\"vasco\",\"flamengo\",\"fluminense\",\"são paulo\")\n",
    "\n",
    "type(tupla_times)"
   ]
  },
  {
   "cell_type": "code",
   "execution_count": 10,
   "metadata": {},
   "outputs": [
    {
     "data": {
      "text/plain": [
       "set"
      ]
     },
     "execution_count": 10,
     "metadata": {},
     "output_type": "execute_result"
    }
   ],
   "source": [
    "conjunto_times = {\"vasco\",\"flamengo\",\"fluminense\",\"são paulo\"}\n",
    "\n",
    "type(conjunto_times)"
   ]
  },
  {
   "cell_type": "code",
   "execution_count": 15,
   "metadata": {},
   "outputs": [
    {
     "data": {
      "text/plain": [
       "{'vasco': 'pior time',\n",
       " 'flamengo': 12,\n",
       " 'fluminense': 5,\n",
       " 'são paulo': 7,\n",
       " 'santos': 50}"
      ]
     },
     "execution_count": 15,
     "metadata": {},
     "output_type": "execute_result"
    }
   ],
   "source": [
    "lista_times = {\n",
    "    \"vasco\": \"pior time\",\n",
    "    \"flamengo\": 12,\n",
    "    \"fluminense\": 5,\n",
    "    \"são paulo\": 7\n",
    "    }\n",
    "\n",
    "lista_times[\"santos\"] = 50;\n",
    "\n",
    "lista_times"
   ]
  }
 ],
 "metadata": {
  "kernelspec": {
   "display_name": ".venv",
   "language": "python",
   "name": "python3"
  },
  "language_info": {
   "codemirror_mode": {
    "name": "ipython",
    "version": 3
   },
   "file_extension": ".py",
   "mimetype": "text/x-python",
   "name": "python",
   "nbconvert_exporter": "python",
   "pygments_lexer": "ipython3",
   "version": "3.12.4"
  }
 },
 "nbformat": 4,
 "nbformat_minor": 2
}
