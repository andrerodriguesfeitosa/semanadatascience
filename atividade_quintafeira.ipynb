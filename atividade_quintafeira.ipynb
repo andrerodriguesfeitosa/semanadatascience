{
 "cells": [
  {
   "cell_type": "markdown",
   "metadata": {},
   "source": [
    "# Orientação a Objetos"
   ]
  },
  {
   "cell_type": "markdown",
   "metadata": {},
   "source": [
    "### Paradigma"
   ]
  },
  {
   "cell_type": "markdown",
   "metadata": {},
   "source": [
    "Orientação a objetos é um modelo de programação baseado em \"objetos\", que são instâncias de \"classes\". Organiza o software como uma coleção de objetos que interagem entre si.\n",
    "\n",
    "Serve para estruturar e organizar código de uma maneira que seja mais próxima do mundo real, facilitando o entendimento, a manutenção e a reutilização do código. Permite a criação de sistemas mais complexos de forma mais gerenciável e escalável.\n",
    "\n",
    "Para adotar o paradigma OO, você precisa entender e utilizar os conceitos de classes, objetos, métodos, herança, polimorfismo e encapsulamento, que vamos explorar a seguir.\n",
    "\n",
    "Vamos Utilizar o Python em nossos exemplos.\n",
    "\n",
    "Imagine um sistema de gerenciamento de biblioteca. Usando o paradigma de OO, você pode modelar os elementos do sistema como objetos, como Livro, Usuário, Empréstimo."
   ]
  },
  {
   "cell_type": "code",
   "execution_count": 9,
   "metadata": {},
   "outputs": [],
   "source": [
    "class Livro:\n",
    "    def __init__(self, titulo, autor):\n",
    "        self.titulo = titulo\n",
    "        self.autor = autor\n",
    "\n",
    "class Usuario:\n",
    "    def __init__(self, nome, id_usuario):\n",
    "        self.nome = nome\n",
    "        self.id_usuario = id_usuario\n",
    "\n",
    "class Emprestimo:\n",
    "    def __init__(self, livro, usuario, data_emprestimo):\n",
    "        self.livro = livro\n",
    "        self.usuario = usuario\n",
    "        self.data_emprestimo = data_emprestimo"
   ]
  },
  {
   "cell_type": "markdown",
   "metadata": {},
   "source": [
    "### Objeto"
   ]
  },
  {
   "cell_type": "markdown",
   "metadata": {},
   "source": [
    "Um objeto é uma instância de uma classe. Ele representa uma entidade com estado (dados) e comportamento (métodos).\n",
    "\n",
    "Objetos são os blocos de construção de programas orientados a objetos. Cada objeto pode interagir com outros objetos."
   ]
  },
  {
   "cell_type": "code",
   "execution_count": 10,
   "metadata": {},
   "outputs": [
    {
     "name": "stdout",
     "output_type": "stream",
     "text": [
      "1984\n"
     ]
    }
   ],
   "source": [
    "livro1 = Livro(\"1984\", \"George Orwell\")\n",
    "print(livro1.titulo)  # Saída: 1984"
   ]
  },
  {
   "cell_type": "markdown",
   "metadata": {},
   "source": [
    "### Classe"
   ]
  },
  {
   "cell_type": "markdown",
   "metadata": {},
   "source": [
    "Uma classe é um modelo ou uma planta que define um tipo de objeto. Contém atributos (dados) e métodos (funções) que descrevem o comportamento dos objetos dessa classe.\n",
    "\n",
    "Serve para criar objetos. Define a estrutura e o comportamento que os objetos desse tipo terão."
   ]
  },
  {
   "cell_type": "code",
   "execution_count": 11,
   "metadata": {},
   "outputs": [
    {
     "name": "stdout",
     "output_type": "stream",
     "text": [
      "André Rodrigues\n"
     ]
    }
   ],
   "source": [
    "usuario1 = Usuario(\"André Rodrigues\", 12345)\n",
    "print(usuario1.nome)  # Saída: André Rodrigues"
   ]
  },
  {
   "cell_type": "markdown",
   "metadata": {},
   "source": [
    "### Método"
   ]
  },
  {
   "cell_type": "markdown",
   "metadata": {},
   "source": [
    "Um método é uma função definida dentro de uma classe. Métodos descrevem os comportamentos que os objetos da classe podem executar.\n",
    "\n",
    "Serve para definir comportamentos dos objetos. Permite que objetos realizem ações e interajam uns com os outros."
   ]
  },
  {
   "cell_type": "code",
   "execution_count": 12,
   "metadata": {},
   "outputs": [
    {
     "name": "stdout",
     "output_type": "stream",
     "text": [
      "André Rodrigues emprestou o livro 1984\n"
     ]
    }
   ],
   "source": [
    "class Usuario:\n",
    "    def __init__(self, nome, id_usuario):\n",
    "        self.nome = nome\n",
    "        self.id_usuario = id_usuario\n",
    "        self.livros_emprestados = []\n",
    "\n",
    "    def realizar_emprestimo(self, livro):\n",
    "        self.livros_emprestados.append(livro)\n",
    "        print(f\"{self.nome} emprestou o livro {livro.titulo}\")\n",
    "\n",
    "usuario1 = Usuario(\"André Rodrigues\", 12345)\n",
    "livro1 = Livro(\"1984\", \"George Orwell\")\n",
    "usuario1.realizar_emprestimo(livro1)"
   ]
  },
  {
   "cell_type": "markdown",
   "metadata": {},
   "source": [
    "### Herança"
   ]
  },
  {
   "cell_type": "markdown",
   "metadata": {},
   "source": [
    "Herança é um mecanismo pelo qual uma classe (classe filha) pode herdar atributos e métodos de outra classe (classe pai).\n",
    "\n",
    "Serve para reutilizar código e criar uma hierarquia de classes. Permite que você crie classes mais especializadas a partir de classes mais gerais."
   ]
  },
  {
   "cell_type": "code",
   "execution_count": 13,
   "metadata": {},
   "outputs": [
    {
     "name": "stdout",
     "output_type": "stream",
     "text": [
      "Funcionário Ana Silva registrou o livro 1984\n"
     ]
    }
   ],
   "source": [
    "class Funcionario(Usuario):\n",
    "    def __init__(self, nome, id_usuario, id_funcionario):\n",
    "        super().__init__(nome, id_usuario)\n",
    "        self.id_funcionario = id_funcionario\n",
    "\n",
    "    def registrar_livro(self, livro):\n",
    "        print(f\"Funcionário {self.nome} registrou o livro {livro.titulo}\")\n",
    "\n",
    "funcionario1 = Funcionario(\"Ana Silva\", 67890, \"F123\")\n",
    "funcionario1.registrar_livro(livro1)"
   ]
  },
  {
   "cell_type": "markdown",
   "metadata": {},
   "source": [
    "### Polimorfismo"
   ]
  },
  {
   "cell_type": "markdown",
   "metadata": {},
   "source": [
    "Polimorfismo é a capacidade de diferentes classes responderem ao mesmo método de maneiras diferentes.\n",
    "\n",
    "Serve para escrever código mais flexível e extensível. Permite que métodos tratados de maneira uniforme através de interfaces ou classes base."
   ]
  },
  {
   "cell_type": "code",
   "execution_count": 14,
   "metadata": {},
   "outputs": [
    {
     "name": "stdout",
     "output_type": "stream",
     "text": [
      "Latido\n",
      "Miado\n"
     ]
    }
   ],
   "source": [
    "class Animal:\n",
    "    def emitir_som(self):\n",
    "        pass\n",
    "\n",
    "class Cachorro(Animal):\n",
    "    def emitir_som(self):\n",
    "        print(\"Latido\")\n",
    "\n",
    "class Gato(Animal):\n",
    "    def emitir_som(self):\n",
    "        print(\"Miado\")\n",
    "\n",
    "animais = [Cachorro(), Gato()]\n",
    "for animal in animais:\n",
    "    animal.emitir_som()  # Saída: Latido, Miado"
   ]
  },
  {
   "cell_type": "markdown",
   "metadata": {},
   "source": [
    "### Encapsulamento"
   ]
  },
  {
   "cell_type": "markdown",
   "metadata": {},
   "source": [
    "Encapsulamento é o princípio de ocultar os detalhes internos de um objeto e expor apenas o necessário através de uma interface pública.\n",
    "\n",
    "Serve para proteger o estado interno de um objeto contra modificações não controladas e para melhorar a modularidade do código."
   ]
  },
  {
   "cell_type": "code",
   "execution_count": 15,
   "metadata": {},
   "outputs": [
    {
     "name": "stdout",
     "output_type": "stream",
     "text": [
      "1500\n"
     ]
    }
   ],
   "source": [
    "class ContaBancaria:\n",
    "    def __init__(self, saldo):\n",
    "        self.__saldo = saldo\n",
    "\n",
    "    def depositar(self, quantia):\n",
    "        if quantia > 0:\n",
    "            self.__saldo += quantia\n",
    "\n",
    "    def obter_saldo(self):\n",
    "        return self.__saldo\n",
    "\n",
    "conta = ContaBancaria(1000)\n",
    "conta.depositar(500)\n",
    "print(conta.obter_saldo())  # Saída: 1500"
   ]
  },
  {
   "cell_type": "markdown",
   "metadata": {},
   "source": [
    "A orientação a objetos é um paradigma poderoso que permite organizar o código de forma modular, reutilizável e escalável.\n",
    "\n",
    "- Referência Bibliográfica:\n",
    "ChatGPT. (2024). Introdução à Orientação a Objetos. Disponível em: [OpenAI's ChatGPT platform]."
   ]
  }
 ],
 "metadata": {
  "kernelspec": {
   "display_name": "Python 3",
   "language": "python",
   "name": "python3"
  },
  "language_info": {
   "codemirror_mode": {
    "name": "ipython",
    "version": 3
   },
   "file_extension": ".py",
   "mimetype": "text/x-python",
   "name": "python",
   "nbconvert_exporter": "python",
   "pygments_lexer": "ipython3",
   "version": "3.11.3"
  }
 },
 "nbformat": 4,
 "nbformat_minor": 2
}
